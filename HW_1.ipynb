{
 "cells": [
  {
   "cell_type": "markdown",
   "id": "c75236d2",
   "metadata": {},
   "source": [
    "## Задание 2"
   ]
  },
  {
   "cell_type": "markdown",
   "id": "0b35d4d6",
   "metadata": {},
   "source": [
    "На складе лежат разные фрукты в разном количестве.\n",
    "Нужно написать функцию, которая на вход принимает любое количество названий фруктов и их количество, а возвращает общее количество фруктов на складе"
   ]
  },
  {
   "cell_type": "code",
   "execution_count": 1,
   "id": "619360a5",
   "metadata": {},
   "outputs": [],
   "source": [
    "def fruits (**kwargs):\n",
    "    result = 0\n",
    "    for key, value in kwargs.items():\n",
    "        result += value\n",
    "    return result"
   ]
  },
  {
   "cell_type": "code",
   "execution_count": 2,
   "id": "1cacaa26",
   "metadata": {},
   "outputs": [
    {
     "data": {
      "text/plain": [
       "19"
      ]
     },
     "execution_count": 2,
     "metadata": {},
     "output_type": "execute_result"
    }
   ],
   "source": [
    "fruits(banana=5, mango=7, apple=2, orange=5)"
   ]
  },
  {
   "cell_type": "markdown",
   "id": "2e6233e0",
   "metadata": {},
   "source": [
    "## Задание 3"
   ]
  },
  {
   "cell_type": "markdown",
   "id": "f515afd6",
   "metadata": {},
   "source": [
    "Дан список с затратами на рекламу. Но в данных есть ошибки, некоторые затраты имеют отрицательную величину. Удалите такие значения из списка и посчитайте суммарные затраты\n",
    "[100, 125, -90, 345, 655, -1, 0, 200]\n",
    "Используйте list comprehensions"
   ]
  },
  {
   "cell_type": "code",
   "execution_count": 3,
   "id": "9e7649c9",
   "metadata": {},
   "outputs": [],
   "source": [
    "costs = [100, 125, -90, 345, 655, -1, 0, 200] "
   ]
  },
  {
   "cell_type": "code",
   "execution_count": 4,
   "id": "2cc0f6f7",
   "metadata": {},
   "outputs": [
    {
     "data": {
      "text/plain": [
       "[100, 125, 0, 345, 655, 0, 0, 200]"
      ]
     },
     "execution_count": 4,
     "metadata": {},
     "output_type": "execute_result"
    }
   ],
   "source": [
    "format_costs = [i if i > 0 else 0 for i in costs]\n",
    "format_costs"
   ]
  },
  {
   "cell_type": "code",
   "execution_count": 5,
   "id": "a3b53f17",
   "metadata": {},
   "outputs": [],
   "source": [
    "def sum_costs(format_costs):\n",
    "    s =0 \n",
    "    for i in format_costs:\n",
    "        s += i\n",
    "    return s"
   ]
  },
  {
   "cell_type": "code",
   "execution_count": 6,
   "id": "09b61fd0",
   "metadata": {},
   "outputs": [
    {
     "data": {
      "text/plain": [
       "1425"
      ]
     },
     "execution_count": 6,
     "metadata": {},
     "output_type": "execute_result"
    }
   ],
   "source": [
    "sum_costs(format_costs)"
   ]
  },
  {
   "cell_type": "code",
   "execution_count": 7,
   "id": "481e6e48",
   "metadata": {},
   "outputs": [],
   "source": [
    "# 2 вариант записи"
   ]
  },
  {
   "cell_type": "code",
   "execution_count": 8,
   "id": "269676b8",
   "metadata": {},
   "outputs": [
    {
     "data": {
      "text/plain": [
       "1425"
      ]
     },
     "execution_count": 8,
     "metadata": {},
     "output_type": "execute_result"
    }
   ],
   "source": [
    "sum([i if i > 0 else 0 for i in costs])"
   ]
  },
  {
   "cell_type": "markdown",
   "id": "dcd45823",
   "metadata": {},
   "source": [
    "## Задание 4"
   ]
  },
  {
   "cell_type": "markdown",
   "id": "203ddb10",
   "metadata": {},
   "source": [
    "### Условие 4.1."
   ]
  },
  {
   "cell_type": "markdown",
   "id": "783118b8",
   "metadata": {},
   "source": [
    "Даны два списка.\n",
    "Дата покупки\n",
    "['2021-09-14', '2021-12-15', '2021-09-08', '2021-12-05', '2021-10-09', '2021-09-30', '2021-12-22', '2021-11-29', '2021-12-24', '2021-11-26', '2021-10-27', '2021-12-18', '2021-11-09', '2021-11-23', '2021-09-27', '2021-10-02', '2021-12-27', '2021-09-20', '2021-12-13', '2021-11-01', '2021-11-09', '2021-12-06', '2021-12-08', '2021-10-09', '2021-10-31', '2021-09-30', '2021-11-09', '2021-12-13', '2021-10-26', '2021-12-09']\n",
    "Суммы покупок по датам\n",
    "[1270, 8413, 9028, 3703, 5739, 4095, 295, 4944, 5723, 3701, 4471, 651, 7037, 4274, 6275, 4988, 6930, 2971, 6592, 2004, 2822, 519, 3406, 2732, 5015, 2008, 316, 6333, 5700, 2887]\n",
    "Найдите, какая выручка у компании в ноябре\n",
    "Используйте list comprehensions"
   ]
  },
  {
   "cell_type": "code",
   "execution_count": 9,
   "id": "35b92c71",
   "metadata": {},
   "outputs": [],
   "source": [
    "data = ['2021-09-14', '2021-12-15', '2021-09-08', '2021-12-05', '2021-10-09', '2021-09-30', '2021-12-22', '2021-11-29', '2021-12-24', '2021-11-26', '2021-10-27', '2021-12-18', '2021-11-09', '2021-11-23', '2021-09-27', '2021-10-02', '2021-12-27', '2021-09-20', '2021-12-13', '2021-11-01', '2021-11-09', '2021-12-06', '2021-12-08', '2021-10-09', '2021-10-31', '2021-09-30', '2021-11-09', '2021-12-13', '2021-10-26', '2021-12-09']\n",
    "summa = [1270, 8413, 9028, 3703, 5739, 4095, 295, 4944, 5723, 3701, 4471, 651, 7037, 4274, 6275, 4988, 6930, 2971, 6592, 2004, 2822, 519, 3406, 2732, 5015, 2008, 316, 6333, 5700, 2887] "
   ]
  },
  {
   "cell_type": "code",
   "execution_count": 10,
   "id": "0f450c20",
   "metadata": {},
   "outputs": [
    {
     "data": {
      "text/plain": [
       "(30, 30)"
      ]
     },
     "execution_count": 10,
     "metadata": {},
     "output_type": "execute_result"
    }
   ],
   "source": [
    "len(data), len(summa)"
   ]
  },
  {
   "cell_type": "code",
   "execution_count": 31,
   "id": "65c17656",
   "metadata": {},
   "outputs": [
    {
     "data": {
      "text/plain": [
       "{'2021-09-14': 1270,\n",
       " '2021-12-15': 8413,\n",
       " '2021-09-08': 9028,\n",
       " '2021-12-05': 3703,\n",
       " '2021-10-09': 2732,\n",
       " '2021-09-30': 2008,\n",
       " '2021-12-22': 295,\n",
       " '2021-11-29': 4944,\n",
       " '2021-12-24': 5723,\n",
       " '2021-11-26': 3701,\n",
       " '2021-10-27': 4471,\n",
       " '2021-12-18': 651,\n",
       " '2021-11-09': 316,\n",
       " '2021-11-23': 4274,\n",
       " '2021-09-27': 6275,\n",
       " '2021-10-02': 4988,\n",
       " '2021-12-27': 6930,\n",
       " '2021-09-20': 2971,\n",
       " '2021-12-13': 6333,\n",
       " '2021-11-01': 2004,\n",
       " '2021-12-06': 519,\n",
       " '2021-12-08': 3406,\n",
       " '2021-10-31': 5015,\n",
       " '2021-10-26': 5700,\n",
       " '2021-12-09': 2887}"
      ]
     },
     "execution_count": 31,
     "metadata": {},
     "output_type": "execute_result"
    }
   ],
   "source": [
    "def func(data: list, summa: list) -> dict: \n",
    "    Dictionary={}\n",
    "    for i in range(len(summa)):\n",
    "            Dictionary[data[i]] = summa[i]\n",
    "    return Dictionary\n",
    "\n",
    "dict = func(data, summa)\n",
    "dict"
   ]
  },
  {
   "cell_type": "code",
   "execution_count": 12,
   "id": "4f4027a7",
   "metadata": {},
   "outputs": [
    {
     "data": {
      "text/plain": [
       "[4944, 3701, 7037, 4274, 2004, 2822]"
      ]
     },
     "execution_count": 12,
     "metadata": {},
     "output_type": "execute_result"
    }
   ],
   "source": [
    "nov = [summa[i] for i in range(len(dict)) if '-11-' in data[i]]\n",
    "nov\n",
    "# не могу понять, где ошибка, что не попадает одно число 316 .."
   ]
  },
  {
   "cell_type": "code",
   "execution_count": 13,
   "id": "91184012",
   "metadata": {},
   "outputs": [
    {
     "data": {
      "text/plain": [
       "24782"
      ]
     },
     "execution_count": 13,
     "metadata": {},
     "output_type": "execute_result"
    }
   ],
   "source": [
    "def sum11(nov):\n",
    "    s11=0\n",
    "    for i in nov: s11+=i\n",
    "    return s11\n",
    "sum11(nov)"
   ]
  },
  {
   "cell_type": "markdown",
   "id": "7215a7b8",
   "metadata": {},
   "source": [
    "### Условие 4.2."
   ]
  },
  {
   "cell_type": "markdown",
   "id": "e79f2ed9",
   "metadata": {},
   "source": [
    "Найдите выручку компании в зависимости от месяца\n",
    "Для этого напишите функцию, которая на вход принимает список с датами и список с выручкой, а на выходе словарь, где ключи - это месяцы, а значения - это выручка.\n",
    "Используйте аннотирование типов."
   ]
  },
  {
   "cell_type": "code",
   "execution_count": 14,
   "id": "8feafe0b",
   "metadata": {},
   "outputs": [],
   "source": [
    "from datetime import datetime"
   ]
  },
  {
   "cell_type": "code",
   "execution_count": 41,
   "id": "39fc58cc",
   "metadata": {},
   "outputs": [
    {
     "data": {
      "text/plain": [
       "[9,\n",
       " 12,\n",
       " 9,\n",
       " 12,\n",
       " 10,\n",
       " 9,\n",
       " 12,\n",
       " 11,\n",
       " 12,\n",
       " 11,\n",
       " 10,\n",
       " 12,\n",
       " 11,\n",
       " 11,\n",
       " 9,\n",
       " 10,\n",
       " 12,\n",
       " 9,\n",
       " 12,\n",
       " 11,\n",
       " 11,\n",
       " 12,\n",
       " 12,\n",
       " 10,\n",
       " 10,\n",
       " 9,\n",
       " 11,\n",
       " 12,\n",
       " 10,\n",
       " 12]"
      ]
     },
     "execution_count": 41,
     "metadata": {},
     "output_type": "execute_result"
    }
   ],
   "source": [
    "data_m = []\n",
    "for i in range(len(data)):\n",
    "    data_m.append(datetime.strptime(data[i],\"%Y-%m-%d\").date().month)\n",
    "\n",
    "data_m"
   ]
  },
  {
   "cell_type": "code",
   "execution_count": 45,
   "id": "5fac80ed",
   "metadata": {},
   "outputs": [
    {
     "data": {
      "text/plain": [
       "30"
      ]
     },
     "execution_count": 45,
     "metadata": {},
     "output_type": "execute_result"
    }
   ],
   "source": [
    "len(data_m)"
   ]
  },
  {
   "cell_type": "code",
   "execution_count": 44,
   "id": "f68c2e6b",
   "metadata": {
    "scrolled": true
   },
   "outputs": [
    {
     "data": {
      "text/plain": [
       "{9: 2008, 12: 2887, 10: 5700, 11: 316}"
      ]
     },
     "execution_count": 44,
     "metadata": {},
     "output_type": "execute_result"
    }
   ],
   "source": [
    "func(data_m, summa)"
   ]
  },
  {
   "cell_type": "code",
   "execution_count": null,
   "id": "ceecc689",
   "metadata": {},
   "outputs": [],
   "source": [
    "# почему не весь словарь показывается? тоже не понимаю почему так отрабатывает"
   ]
  }
 ],
 "metadata": {
  "kernelspec": {
   "display_name": "Python 3 (ipykernel)",
   "language": "python",
   "name": "python3"
  },
  "language_info": {
   "codemirror_mode": {
    "name": "ipython",
    "version": 3
   },
   "file_extension": ".py",
   "mimetype": "text/x-python",
   "name": "python",
   "nbconvert_exporter": "python",
   "pygments_lexer": "ipython3",
   "version": "3.9.13"
  }
 },
 "nbformat": 4,
 "nbformat_minor": 5
}
